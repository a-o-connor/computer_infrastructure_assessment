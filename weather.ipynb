{
 "cells": [
  {
   "cell_type": "markdown",
   "metadata": {},
   "source": [
    "# Weather Analysis\n",
    "******************\n",
    "\n",
    "### Task 1: Create Directory Structure\n",
    "A directory named data was created using the command line. \n",
    "A codespace was opened in Github to do this. \n",
    "```\n",
    "pwd\n",
    "#Returns the current working directory: /workspaces/computer_infrastructure_assessment\n",
    "mkdir data\n",
    "cd data\n",
    "mkdir weather\n",
    "cd weather\n",
    "touch empty.txt \n",
    "cd ..\n",
    "mkdir timestamps\n",
    "cd timestamps\n",
    "touch empty.txt\n",
    "```\n",
    "\n",
    "- Two subdirectories, timestamps and weather, were also created. \n",
    "- Inside each subdirectory, an initial empty text file was created usigng the ``touch`` command, as otherwise the empty directories would be ignored when trying to push changes to Github. \n",
    "- The man page of the ``touch`` command describes the command as follows:\n",
    "\n",
    "**DESCRIPTION**<br>\n",
    "Update the access and modification times of each FILE to the current time.<br>\n",
    "A FILE argument that does not exist is created empty, unless -c or -h is supplied.\n",
    " "
   ]
  },
  {
   "cell_type": "markdown",
   "metadata": {
    "vscode": {
     "languageId": "plaintext"
    }
   },
   "source": [
    "### Task 2: Timestamps\n",
    "The date command was used to output the current date and time to a file named \"now.txt\". \n",
    "````\n",
    "date +%Y/%m/%d_%H:%M:%S >>now.txt \n",
    "more now.txt\n",
    "#Returns the contents of now.txt: 2024/10/22_09:45:37\n",
    "````\n",
    "- The file now.txt was created with the current date and time in it. \n",
    "- The >> was used to append 10 more lines to the file. \n",
    "- If a single instead of a double > had been used, the new date and time would overwrite the existing line in the file.  "
   ]
  },
  {
   "cell_type": "markdown",
   "metadata": {},
   "source": [
    "### Task 3: Formatting Timestamps\n",
    "A file named formatted.txt was created with the current date and time in it, written in the format YYYYmmdd_HHMMSS. \n",
    "````\n",
    "date +%y%m%d_%H%M%S >>formatted.txt \n",
    "more formatted.txt\n",
    "#Returns the contents of formatted.txt: 241111_170150\n",
    "````"
   ]
  },
  {
   "cell_type": "markdown",
   "metadata": {},
   "source": [
    "### Task 4: Create Timestamped Files\n",
    "The touch command was used to create an empty text file, titled with the current date and time, in the format YYYYmmdd_HHMMSS.txt.\\\n",
    "In order to do this, the date command was embedded in backticks after the touch command, as follows below. \n",
    "````\n",
    "touch `date +%Y%m%d_%H%M%S`.txt\n",
    "ls\n",
    "#Returns the contents of the current directory, showing the file that was just created: 20241111_171251.txt\n",
    "````\n"
   ]
  },
  {
   "cell_type": "markdown",
   "metadata": {},
   "source": [
    "### Task 5: Download Today's Weather Data\n",
    "The current weather data from Athenry was retrieved using the ``wget`` command.\\\n",
    "The weather data was written into a json file, in the data/weather directory, using ``wget URL -O weather.json``.\n",
    "````\n",
    "wget https://prodapi.metweb.ie/observations/athenry/today -O weather.json\n",
    "````"
   ]
  },
  {
   "cell_type": "markdown",
   "metadata": {},
   "source": [
    "### Task 6: Timestamp the Data\n",
    "The weather.json file downloaded in Task 5 was deleted, and a new file with the current Athenry weather data was downloaded, however this time the file title had the date and time in the format YYYYmmdd_HHMMSS.json.\n",
    "````\n",
    "wget https://prodapi.metweb.ie/observations/athenry/today -O `date +%Y%m%d_%H%M%S`_athenry.json\n",
    "````"
   ]
  },
  {
   "cell_type": "markdown",
   "metadata": {},
   "source": [
    "### Task 7: Write the Script\n",
    "A bash script called weather.sh was written that downloads today's weather data from Athenry and saves it in a file with the current date in the title.\\\n",
    "The first line in the file is ``#! /bin/bash``, so that when the file is run in the command line environment it automatically runs as a bash script.\\\n",
    "In order to make the file executable, the line ``chmod u+x weather.sh`` to change the user mode to execute was run.  \n",
    "````\n",
    "./weather.sh\n",
    "#Reutrns an error, since the user does not have permissions to execute the bash script\n",
    "ls -al\n",
    "#The list of directory contents shows that in weather.sh, the user only has read write permissions: -rw-rw-rw-\n",
    "chmod u+x weather.sh\n",
    "ls -al \n",
    "#The weather.sh script now shows the user can execute the script: -rwxrw-rw- \n",
    "./weather.sh\n",
    "#Script runs successfully\n",
    "````"
   ]
  },
  {
   "cell_type": "markdown",
   "metadata": {},
   "source": [
    "Task 9: pandas\n",
    "In your weather.ipynb notebook, use the pandas function read_json() to load in any one of the weather data files you have downloaded with your script. Examine and summarize the data. Use the information provided data.gov.ie to write a short explanation of what the data set contains."
   ]
  }
 ],
 "metadata": {
  "language_info": {
   "name": "python"
  }
 },
 "nbformat": 4,
 "nbformat_minor": 2
}
