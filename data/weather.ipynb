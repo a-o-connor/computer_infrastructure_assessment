{
 "cells": [
  {
   "cell_type": "markdown",
   "metadata": {},
   "source": [
    "# Weather Analysis\n",
    "******************\n",
    "\n",
    "### Task 1: Create Directory Structure\n",
    "A directory named data was created using the command line. In order to use Linux commands, a codespace was opened in Github to do this. \n",
    "```\n",
    "pwd\n",
    "    /workspaces/computer_infrastructure_assessment\n",
    "mkdir data\n",
    "cd data\n",
    "mkdir weather\n",
    "cd weather\n",
    "touch empty.txt \n",
    "cd ..\n",
    "mkdir timestamps\n",
    "cd timestamps\n",
    "touch empty.txt\n",
    "```\n",
    "\n",
    "- Two subdirectories, timestamps and weather, were also created. \n",
    "- Inside each subdirectory, an initial empty text file was created usigng the ``touch`` command, as otherwise the empty directories would be ignored when trying to push changes to Github. \n",
    "- The man page of the ``touch`` command describes the command as follows:\n",
    "\n",
    "**DESCRIPTION**<br>\n",
    "Update the access and modification times of each FILE to the current time.<br>\n",
    "A FILE argument that does not exist is created empty, unless -c or -h is supplied.\n",
    " "
   ]
  },
  {
   "cell_type": "markdown",
   "metadata": {
    "vscode": {
     "languageId": "plaintext"
    }
   },
   "source": [
    "### Task 2: Timestamps\n",
    "The date command was used to output the current date and time to a file named \"now.txt\". \n",
    "````\n",
    "date +%Y/%m/%d_%H:%M:%S >>now.txt \n",
    "more now.txt\n",
    "    2024/10/22_09:45:37\n",
    "````\n",
    "- The file now.txt was created with the current date and time in it. \n",
    "- The >> was used to append 10 more lines to the file. \n",
    "- If a single instead of a double > had been used, the new date and time would overwrite the existing line in the file.  "
   ]
  },
  {
   "cell_type": "markdown",
   "metadata": {},
   "source": [
    "### Task 3: Formatting Timestamps\n",
    "A file named formatted.txt was created with the current date and time in it, written in the format YYYYmmdd_HHMMSS. \n",
    "````\n",
    "date +%y%m%d_%H%M%S >>formatted.txt \n",
    "more formatted.txt\n",
    "    241111_170150\n",
    "````"
   ]
  },
  {
   "cell_type": "markdown",
   "metadata": {},
   "source": [
    "### Task 4: Create Timestamped Files\n",
    "The touch command was used to create an empty text file, titled with the current date and time, in the format YYYYmmdd_HHMMSS.txt. \n",
    "\n",
    "In order to dp this, the date command was embedded in backticks after the touch command, as follows below. \n",
    "````\n",
    "touch `date +%Y%m%d_%H%M%S`.txt\n",
    "ls\n",
    "    20241111_171251.tx\n",
    "````\n"
   ]
  },
  {
   "cell_type": "markdown",
   "metadata": {},
   "source": [
    "### Task 5: Download Today's Weather Data\n",
    "Change to the data/weather directory. Download the latest weather data for the Athenry weather station from Met Eireann using wget. Use the -O <filename> option to save the file as weather.json. The data can be found at this URL:\n",
    "https://prodapi.metweb.ie/observations/athenry/today."
   ]
  },
  {
   "cell_type": "markdown",
   "metadata": {},
   "source": [
    "Task 6: Timestamp the Data\n",
    "Modify the command from Task 5 to save the downloaded file with a timestamped name in the format YYYYmmdd_HHMMSS.json."
   ]
  },
  {
   "cell_type": "markdown",
   "metadata": {},
   "source": [
    "Task 7: Write the Script\n",
    "Write a bash script called weather.sh in the root of your repository. This script should automate the process from Task 6, saving the weather data to the data/weather directory. Make the script executable and test it by running it."
   ]
  },
  {
   "cell_type": "markdown",
   "metadata": {},
   "source": [
    "Task 9: pandas\n",
    "In your weather.ipynb notebook, use the pandas function read_json() to load in any one of the weather data files you have downloaded with your script. Examine and summarize the data. Use the information provided data.gov.ie to write a short explanation of what the data set contains."
   ]
  }
 ],
 "metadata": {
  "language_info": {
   "name": "python"
  }
 },
 "nbformat": 4,
 "nbformat_minor": 2
}
